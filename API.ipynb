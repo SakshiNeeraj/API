{
  "nbformat": 4,
  "nbformat_minor": 0,
  "metadata": {
    "colab": {
      "provenance": []
    },
    "kernelspec": {
      "name": "python3",
      "display_name": "Python 3"
    },
    "language_info": {
      "name": "python"
    }
  },
  "cells": [
    {
      "cell_type": "code",
      "execution_count": null,
      "metadata": {
        "colab": {
          "base_uri": "https://localhost:8080/"
        },
        "id": "MfZTvVMQl4qp",
        "outputId": "873c6dac-df61-4771-8fbd-66b9e3eda712"
      },
      "outputs": [
        {
          "output_type": "stream",
          "name": "stdout",
          "text": [
            "Requirement already satisfied: requests in /usr/local/lib/python3.10/dist-packages (2.31.0)\n",
            "Requirement already satisfied: charset-normalizer<4,>=2 in /usr/local/lib/python3.10/dist-packages (from requests) (3.3.2)\n",
            "Requirement already satisfied: idna<4,>=2.5 in /usr/local/lib/python3.10/dist-packages (from requests) (3.7)\n",
            "Requirement already satisfied: urllib3<3,>=1.21.1 in /usr/local/lib/python3.10/dist-packages (from requests) (2.0.7)\n",
            "Requirement already satisfied: certifi>=2017.4.17 in /usr/local/lib/python3.10/dist-packages (from requests) (2024.6.2)\n",
            "The state of SSN College of Engineering is Tamil nadu.\n"
          ]
        }
      ],
      "source": [
        "!pip install requests\n",
        "import requests\n",
        "\n",
        "# Define the API URL\n",
        "api_url = \"https://script.google.com/macros/s/AKfycbxEvpmHqJb2jsegRbQnsOGPbe5Y-kw7M5QJJw6P5d-WHgHo6-vNcDLL8IEN2b7mOXk6/exec\"\n",
        "\n",
        "def get_college_state(college_name):\n",
        "    # Make a GET request to the API\n",
        "    response = requests.get(api_url)\n",
        "\n",
        "    # Check if the request was successful\n",
        "    if response.status_code == 200:\n",
        "        # Parse the JSON data\n",
        "        data = response.json()\n",
        "\n",
        "        # Search for the college name in the data\n",
        "        for college in data['data']:\n",
        "            if college['college name'] == college_name:\n",
        "                return college['sate']\n",
        "        return \"College not found.\"\n",
        "    else:\n",
        "        return f\"Failed to retrieve data: {response.status_code}\"\n",
        "\n",
        "# Example usage\n",
        "college_name = \"SSN College of Engineering\"\n",
        "state = get_college_state(college_name)\n",
        "print(f\"The state of {college_name} is {state}.\")"
      ]
    }
  ]
}